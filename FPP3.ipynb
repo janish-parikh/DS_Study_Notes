{
  "cells": [
    {
      "attachments": {},
      "cell_type": "markdown",
      "metadata": {
        "id": "f1aP7QlxD6Xq"
      },
      "source": [
        "## Forecasting Principles and Practices Notes"
      ]
    },
    {
      "attachments": {},
      "cell_type": "markdown",
      "metadata": {
        "id": "17Gmyl2SAl2M"
      },
      "source": [
        "If you think about it, time series forecasting is inherently a extrapolating problem (interpolating would be predicting in the past)."
      ]
    },
    {
      "attachments": {},
      "cell_type": "markdown",
      "metadata": {
        "id": "AdvcBdYgD8yu"
      },
      "source": [
        "### Chapter 1 : Overview and Motivation"
      ]
    },
    {
      "attachments": {},
      "cell_type": "markdown",
      "metadata": {
        "id": "bfvXic1XEMaz"
      },
      "source": [
        "The predictability of an event or a quantity depends on several factors including:\n",
        "\n",
        "1.   how well we understand the factors that contribute to it\n",
        "2.   how much data is available\n",
        "3.   how similar the future is to the past\n",
        "4.   Whether the forecasts can affect the thing we are trying to forecast (think of exchange rates)\n",
        "\n",
        "\n",
        "*The efficient-market hypothesis is a hypothesis in financial economics that states that asset prices reflect all available information.*\n",
        "\n",
        "Good forecasts capture the genuine patterns and relationships which exist in the historical data, but do not replicate past events that will not occur again.\n",
        "\n",
        "Forecast horizon, forecasts required one month in advance, six months, one year?\n",
        "\n",
        "If there are no data available or if the data is not relevant to forecasting than **qualitaitve forecasting** methods must be used (Chapter 6)\n",
        "\n",
        "General equation for Dynamic Regression Models, Panel Data Models, Longitudinal Models, Transfer Function Models, and Linear System Models (assuming that f is linear).\n",
        "\n",
        "<center> $ ED_{t+1} = f(ED_{t}, current temperature, time of day, day of week, error)$ </center>\n",
        "\n",
        "**Forecasting Framework**:\n",
        "\n",
        "1.  Problem Definition\n",
        "2.  Gathering Information\n",
        "3.  Preliminary Analysis\n",
        "4.  Training and model selection\n",
        "5.  Model evaluation and deployment\n",
        "\n",
        "\n",
        "**Statistical Forecasting Perspective**\n",
        "\n",
        "The underlying assumption is that the target variable is a random variable and we are trying to forecast teh middle of the range of the possible values (also calles as point forecasts). The point forecasts are accompanied with prediction intervals.\n",
        "\n",
        "We think of the target varaible to follow a forecast distribution denoted by $y_t | I$.\n"
      ]
    },
    {
      "attachments": {},
      "cell_type": "markdown",
      "metadata": {
        "id": "csuHF2PIi_wW"
      },
      "source": [
        "### Chapter 2 : Time Series Graphics"
      ]
    },
    {
      "attachments": {},
      "cell_type": "markdown",
      "metadata": {
        "id": "84-ksjEDjDy9"
      },
      "source": [
        "In R time series data can be stored as a `tsibble` object.\n",
        "\n",
        "*`tsibble` objects extend tidy data frames (`tibble` objects) by introducing temporal structure.*\n",
        "\n",
        "\n",
        "Autocorrelation function measures the linear relationship between lagged values of a time series.\n",
        "\n",
        "ACF value $r_k$ can be denoted as:\n",
        "\n",
        "$ r_k = \\frac{\\sum_{t = k + 1}^{T} (y_t - \\bar y)(y_{t-k} - \\bar y)} {\\sum_{t = 1}^{T} (y_t - \\bar y)^2}$\n",
        "\n",
        "**White Noise**\n",
        "\n",
        "Time series that show no autocorrelation are called whie noise. We expect each autocorrelation to be close to zero, however realistically we expect the the 95% of the spikes in the ACF to lie within $\\pm\n",
        " 2/ \\sqrt{T}$"
      ]
    },
    {
      "attachments": {},
      "cell_type": "markdown",
      "metadata": {
        "id": "-KttvZJistWI"
      },
      "source": [
        "### Chapter 3 : Time Series Decomposition"
      ]
    },
    {
      "attachments": {},
      "cell_type": "markdown",
      "metadata": {
        "id": "TcOkLngqszKn"
      },
      "source": [
        "  Componenets of time series:\n",
        "  1.  Trend-Cycle component ($T_t$)\n",
        "  2.  Seasonal component($S_t$) (can be multiple , corresponding to different seasonal periods)\n",
        "  3.  Noise/Remainder component ($R_t$)\n",
        "\n",
        "\n",
        "  Tranformations and Adjustments:\n",
        "  1.  Calendar Adjustments:\n",
        "  2.  Population Adjustments\n",
        "  3.  Inflation Adjustments\n",
        "  4.  Mathematical Transformations\n",
        "      -  Log\n",
        "      -  Power\n",
        "      -  Box-Cox : *A good value of λ is one which makes the size of the seasonal variation about the same across the whole series* guerrero?? help choose λ.\n",
        "\n",
        "\n",
        "Decomposition of time series:\n",
        "1.  Additive : Most appropriate if the magnitude of the seasonal fluctuations, or the variation around the trend-cycle, does not vary with the level of the time series.\n",
        "\n",
        "<center> $ y_t = S_t + T_t + R_t $ </center>\n",
        "\n",
        "2.  Multiplicative : When the variation in the seasonal pattern, or the variation around the trend-cycle, appears to be proportional to the level of the time series, then a multiplicative decomposition is more appropriate. *Consider log transformation*\n",
        "\n",
        "<center> $y_t = S_t x T_t x R_t$</center>\n",
        "\n",
        "*If the variation due to seasonality is not of primary interest, the seasonally adjusted series can be useful*\n",
        "\n",
        "\n",
        "Moving Averages:\n",
        "*Motivation behind this is to be able to estimate the trend component*\n",
        "\n",
        "A moving average of order m (m-MA) can be written as\n",
        "<center> $\\hat{T}_t = \\frac{1}{m} \\sum_{j = -k}^{j = k}y_{t+j}$ </center>\n",
        "\n",
        "The motivation behind applying moving average of moving averages is to make even-order moving average symmetric.\n",
        "\n",
        "\n",
        "*Even order MA to followed by even order MA and odd order MA to be followed by odd order MA to make it symmetric.*\n",
        "\n",
        "Weighted Moving Averages: A major advantage of weighted moving averages is that they yield a smoother estimate of the trend-cycle. Instead of observations entering and leaving the calculation at full weight, their weights slowly increase and then slowly decrease, resulting in a smoother curve.\n",
        "\n",
        "**Classical method of decomposition:**\n",
        "\n",
        "*Assumption is that seasonal component is constant from year to year.*\n",
        "1.  Compute trend-cycle component\n",
        "2.  Deternd the series\n",
        "3.  Estimate the seasonal component\n",
        "4.  Compute Remainder component\n",
        "\n",
        "Drawbacks:\n",
        "\n",
        "- Unavailable for the first and last dew observations.\n",
        "- Trend-cycle over-smooths rapid rises and falls in the data\n",
        "- Seasonal component assumption not necessarily holds true especially for longer series (unable to capture seasonal changes over time).\n",
        "-  Not robust to unusal sudden changes in the data.\n",
        "\n",
        "Better methods are X-11, SEATS(Seasonal Extraction in ARIMA Time Series) and STL(Season and Trend Decomposition using Loess)."
      ]
    },
    {
      "attachments": {},
      "cell_type": "markdown",
      "metadata": {
        "id": "ffbha7Ojgddy"
      },
      "source": [
        "### Chapter 4 : Time Series Features"
      ]
    },
    {
      "attachments": {},
      "cell_type": "markdown",
      "metadata": {
        "id": "tNqe7JhNgmg7"
      },
      "source": [
        "Features related to ACF:\n",
        "-  the first autocorrelation coefficient from the original data;\n",
        "-  the sum of squares of the first ten autocorrelation coefficients from the original data;\n",
        "-  the first autocorrelation coefficient from the differenced data;\n",
        "-  the sum of squares of the first ten autocorrelation coefficients from the differenced data;\n",
        "-  the first autocorrelation coefficient from the twice differenced data;\n",
        "-  the sum of squares of the first ten autocorrelation coefficients from the twice differenced data;\n",
        "-  For seasonal data, the autocorrelation coefficient at the first seasonal lag is also returned.\n",
        "\n",
        "\n",
        "*STL Decomposition*:\n",
        "\n",
        "For strongly trended data, the seasonally adjusted data should have much more variation than the remainder component. Therefore $Var(R_t)/Var(R_t + T_t)$  should be relatively small.\n",
        "\n",
        "\n",
        "Similarly for strongly seasoned data, the detrended data should have much more variation than the remainder component. Therefore $Var(R_t)/Var(R_t + S_t)$  should be relatively small\n",
        "\n",
        "\n",
        "*Additional Features*:\n",
        "-  Hurst coefficient of a time series which is a measure of “long memory”\n",
        "-  Shannon/ Spectral entropy of a time series, which is a measure of how easy the series is to forecast\n",
        "-   Box-Pierce statistic for testing if a time series is white noise\n",
        "-   Ljung-Box statistic for testing if a time series is white noise\n",
        "-   The k th partial autocorrelation measures the relationship between observations k periods apart after removing the effects of observations between them\n",
        "-   Kwiatkowski-Phillips-Schmidt-Shin (KPSS) statistic for testing if a series is stationary\n",
        "- Phillips-Perron statistic for testing if a series is non-stationary\n",
        "-  number of differences required to lead to a stationary series based on the KPSS test\n",
        "-  \"stability” feature:  the means of consecutive non-overlapping blocks of observations\n",
        "-  \"lumpiness\" feature:  the variance of consecutive non-overlapping blocks of observations\n",
        "Read more : https://otexts.com/fpp3/other-features.html\n",
        "\n",
        "\n",
        "Think : All this features can be used to detect anomalous points (after some dimensionality reduction method).\n"
      ]
    },
    {
      "attachments": {},
      "cell_type": "markdown",
      "metadata": {
        "id": "N1LwlEeNQeoP"
      },
      "source": [
        "### Chapter 5 : The forecaster's Toolbox\n"
      ]
    },
    {
      "attachments": {},
      "cell_type": "markdown",
      "metadata": {
        "id": "4h3jCVWjQkHS"
      },
      "source": [
        "<center> Tidy Forecasting Workflow\n",
        "\n",
        "![image.png](data:image/png;base64,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)</center>"
      ]
    },
    {
      "attachments": {},
      "cell_type": "markdown",
      "metadata": {
        "id": "GT2IN3OXpJNu"
      },
      "source": [
        "**Benchmark/Baseline Models**\n",
        "\n",
        "1.  Mean Method: Forecast of all future values are equal to the mean of the historical data.\n",
        "\n",
        "<center>$\\hat y_{T+h|T} = \\bar y = (y_1 + y_2 + . . . . + y_T)/T$</center>\n",
        "\n",
        "2. Naïve Method:  All forecasts to be the value of the last observation.\n",
        "<center>$\\hat y_{T+h|T} =  y_T $</center>\n",
        "\n",
        "3. Seasonal naïve method: Each forecast to be equal to the last observed value from the same season (useful for highly seasoned data).\n",
        "<center>$\\hat y_{T+h|T} =  y_{T+h-m(k+1)}$</center>\n",
        "where, m = the seasonal period and k is the integer part of (h-1)/m\n",
        "\n",
        "4. Drift Method: Variation of the naive method, here we allow the forecasts to increase or decrease over time, where the drift (amount of change over time) is set to the average seen in the historical data.\n",
        "(Equivalent to drawing a line between the first and last observation and then extrapolating it).\n",
        "\n",
        "<center>$\\hat y_{T+h|T} =  y_T  + \\frac{h}{T-1} ∑_{t=2}^T (y_t - y_{t-1}) = y_t + h(\\frac{y_T - y_1}{T-1})$</center>\n"
      ]
    },
    {
      "attachments": {},
      "cell_type": "markdown",
      "metadata": {
        "id": "adIvq_DgvH7H"
      },
      "source": [
        "Innovation Residuals: Residuals on the transformed scale (same as the one used in the model).\n",
        "\n",
        "If patterns are observable in the innovation residuals, the model can probably be improved.\n",
        "\n",
        "Checks on innovation residuals for good model:\n",
        "1.  The innovation residuals are uncorrelated. (Think of it if there is information in the residuals then some feature is missing in the model). (Check the ACF plot of residuals).\n",
        "2.  The innovation residuals have zero mean (if not zero then the residuals are biased). (Just subtract the mean from the forecasts bias poof)\n",
        "---- Desirable\n",
        "3.  The innovation residuals have constant variance (homoskedacity)\n",
        "4.  The innovation residuals are normally distributed. (Think of calculating prediction intervals).\n",
        "\n",
        "Sometimes Box-Cox Transformation should work.\n",
        "\n"
      ]
    },
    {
      "attachments": {},
      "cell_type": "markdown",
      "metadata": {
        "id": "praxznGqyWd8"
      },
      "source": [
        "Test for Autocorrelation:\n",
        "\n",
        "Motivation: Considering a whole set of $r_k$ values as a group, rather than treating each one separately.\n",
        "\n",
        "To overcome false positives, we test whether the first *l* autocorrelation are significantly different from waht would be expected in a white noise process.\n",
        "\n",
        "A test for a group of autocorrelations is called as Portmanteau Test.\n",
        "\n",
        "**Box-Pierce Test**:\n",
        "\n",
        "<center>$Q = T \\sum_{k=1}^{ℓ} r_{k}^2$</center>\n",
        "\n",
        "Here ℓ is the maximum lag being considered. l is set to 10 for non seasonal data and 2m for seasonal data (m is the period of seasonality).\n",
        "\n",
        "The test is not good when ℓ is large, so if values are larger than T/5 we use ℓ = T/5.\n",
        "\n",
        "Large value of Q sugest that the autocorrelations do not come from a white noise process.\n",
        "\n",
        "**Ljung-Box Test**\n",
        "More accurate\n",
        "<center>$Q^* = T(T+1) \\sum_{k=1}^{ℓ} (T-k)^{-1} r_{k}^2$</center>\n",
        "\n",
        "\n",
        "If the autocorrelations did come from a white noise series, then both Q and $Q^*$ would have a $χ^2$ distribution with $ℓ$ degrees of freedom\n"
      ]
    }
  ],
  "metadata": {
    "colab": {
      "provenance": []
    },
    "kernelspec": {
      "display_name": "Python 3",
      "name": "python3"
    },
    "language_info": {
      "name": "python"
    }
  },
  "nbformat": 4,
  "nbformat_minor": 0
}
